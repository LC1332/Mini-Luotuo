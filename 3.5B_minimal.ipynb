{
  "nbformat": 4,
  "nbformat_minor": 0,
  "metadata": {
    "colab": {
      "provenance": [],
      "gpuType": "T4",
      "include_colab_link": true
    },
    "kernelspec": {
      "name": "python3",
      "display_name": "Python 3"
    },
    "language_info": {
      "name": "python"
    },
    "accelerator": "GPU",
    "gpuClass": "standard"
  },
  "cells": [
    {
      "cell_type": "markdown",
      "metadata": {
        "id": "view-in-github",
        "colab_type": "text"
      },
      "source": [
        "<a href=\"https://colab.research.google.com/github/LC1332/Mini-Luotuo/blob/main/3.5B_minimal.ipynb\" target=\"_parent\"><img src=\"https://colab.research.google.com/assets/colab-badge.svg\" alt=\"Open In Colab\"/></a>"
      ]
    },
    {
      "cell_type": "markdown",
      "source": [
        "# 迷你骆驼:一系列蒸馏指令数据得到的中文语言模型\n",
        "\n",
        "[![Code License](https://img.shields.io/badge/Code%20License-Apache_2.0-green.svg)]()\n",
        "[![Data License](https://img.shields.io/badge/Data%20License-CC%20By%20NC%204.0-red.svg)]()\n",
        "\n",
        "<p align=\"center\"> <a href=\"https://scholar.google.com/citations?user=imroB-8AAAAJ&hl=zh-CN\" target=\"_blank\">黄钟健 @ 西安电子科大</a>, <a href=\"https://github.com/LC1332\" target=\"_blank\">李鲁鲁 @ 商汤科技</a></p>\n",
        "\n",
        "\n",
        "<details>\n",
        "  <summary> 黄钟健 训练了本项目的第一个模型 </summary>\n",
        "\n",
        "李鲁鲁发起了项目，并提出了后续使用feature进行蒸馏的思路。\n",
        "\n",
        "黄钟健 训练了本项目的第一个模型，并且实现了训练框架\n",
        "\n",
        "后续如果更多其他的同学训练小模型，我们也会陆续加入到作者列表中\n",
        "\n",
        "</details>\n",
        "\n",
        "项目地址https://github.com/LC1332/Mini-Luotuo\n",
        "\n",
        "本notebook由黄钟健实现\n",
        "\n",
        "目前包含3.5B模型的inference代码"
      ],
      "metadata": {
        "id": "Y3lytinmcl_Y"
      }
    },
    {
      "cell_type": "markdown",
      "source": [
        "安装必要的环境"
      ],
      "metadata": {
        "id": "sRpuBYV3cuda"
      }
    },
    {
      "cell_type": "code",
      "execution_count": null,
      "metadata": {
        "id": "9deFaJWjaJ2-"
      },
      "outputs": [],
      "source": [
        "!pip install bitsandbytes datasets sentencepiece transformers accelerate"
      ]
    },
    {
      "cell_type": "code",
      "source": [
        "from transformers import GPT2Tokenizer, GPT2LMHeadModel\n",
        "import torch\n",
        "\n",
        "def generate_prompt(instruction, input=None):\n",
        "    if input:\n",
        "        return f\"Below is an instruction that describes a task, paired with an input that provides further context. Write a response that appropriately completes the request.\\n\\n### Instruction:\\n{instruction}\\n\\n### Input:\\n{input}\\n\\n### Response:\\n\"\n",
        "    else:\n",
        "        return f\"Below is an instruction that describes a task. Write a response that appropriately completes the request.\\n\\n### Instruction:\\n{instruction}\\n\\n### Response:\\n\"\n"
      ],
      "metadata": {
        "id": "jTgZI1c-avja"
      },
      "execution_count": 2,
      "outputs": []
    },
    {
      "cell_type": "code",
      "source": [
        "tokenizer = GPT2Tokenizer.from_pretrained('Midkey/GPT2-3.5B-chinese-ft-luotuo')\n",
        "\n",
        "model = GPT2LMHeadModel.from_pretrained('Midkey/GPT2-3.5B-chinese-ft-luotuo', trust_remote_code=True, load_in_8bit=True, device_map='auto')"
      ],
      "metadata": {
        "id": "auuhPiF3a0GJ"
      },
      "execution_count": 3,
      "outputs": []
    },
    {
      "cell_type": "code",
      "source": [
        "def evaluate(\n",
        "    instruction,\n",
        "    input=None,\n",
        "    max_new_tokens=256,\n",
        "):\n",
        "    prompt = generate_prompt(instruction, input)\n",
        "    inputs = tokenizer(prompt, return_tensors=\"pt\")\n",
        "    input_ids = inputs[\"input_ids\"].cuda()\n",
        "    with torch.no_grad():\n",
        "        generation_output = model.generate(\n",
        "            input_ids=input_ids,\n",
        "            return_dict_in_generate=True,\n",
        "            output_scores=True,\n",
        "            max_new_tokens=max_new_tokens,\n",
        "            pad_token_id=50256\n",
        "        )\n",
        "    for s in generation_output.sequences:\n",
        "        output = tokenizer.decode(s)\n",
        "        print(\"Response:\", output.split(\"### Response:\")[1].strip())"
      ],
      "metadata": {
        "id": "L24kOqovbIsk"
      },
      "execution_count": 4,
      "outputs": []
    },
    {
      "cell_type": "markdown",
      "source": [
        "现在可以玩了"
      ],
      "metadata": {
        "id": "dKFJtc96eeBa"
      }
    },
    {
      "cell_type": "code",
      "source": [
        "instruction = '华中师范大学在什么地方?'\n",
        "evaluate(instruction)"
      ],
      "metadata": {
        "id": "mK955PINdFlg",
        "outputId": "52bb0448-fab2-4e10-d861-87cd9b891fa2",
        "colab": {
          "base_uri": "https://localhost:8080/"
        }
      },
      "execution_count": 9,
      "outputs": [
        {
          "output_type": "stream",
          "name": "stdout",
          "text": [
            "Response: 华中师范大学在湖北省武汉市洪山区<|endoftext|>\n"
          ]
        }
      ]
    },
    {
      "cell_type": "code",
      "source": [
        "instruction = '蛋糕和巧克力做法上有什么区别？'\n",
        "evaluate(instruction)"
      ],
      "metadata": {
        "id": "cSoJvuwLdLs9",
        "outputId": "c922f3e6-4e40-4366-a11b-b20b70928fa5",
        "colab": {
          "base_uri": "https://localhost:8080/"
        }
      },
      "execution_count": 6,
      "outputs": [
        {
          "output_type": "stream",
          "name": "stdout",
          "text": [
            "Response: 蛋糕和巧克力的做法上有很大的不同。蛋糕是用黄油，糖，面粉，可可粉，鸡蛋和牛奶等食材制作而成的，口感细腻，味道浓郁。而巧克力是用可可豆，坚果，奶油，糖，香草精，巧克力酱，黄油等食材制作而成的，口感比较柔软，味道比较甜。\n",
            "\n",
            "蛋�\n"
          ]
        }
      ]
    },
    {
      "cell_type": "markdown",
      "source": [
        "Response: 蛋糕和巧克力的做法上有很大的不同。蛋糕是用黄油，糖，面粉，可可粉，鸡蛋和牛奶等食材制作而成的，口感细腻，味道浓郁。而巧克力是用可可豆，坚果，奶油，糖，香草精，巧克力酱，黄油等食材制作而成的，口感比较柔软，味道比较甜。\n",
        "\n",
        "蛋�"
      ],
      "metadata": {
        "id": "N9DDTcZxeO5F"
      }
    },
    {
      "cell_type": "code",
      "source": [
        "instruction = '新手司机开车上路要注意什么?'\n",
        "evaluate(instruction)"
      ],
      "metadata": {
        "id": "QyGSGCKjdQQD",
        "outputId": "c56f6d57-15d6-4283-f31f-2f2d0e5af660",
        "colab": {
          "base_uri": "https://localhost:8080/"
        }
      },
      "execution_count": 8,
      "outputs": [
        {
          "output_type": "stream",
          "name": "stdout",
          "text": [
            "Response: 新手司机开车上路要注意什么?\n",
            "\n",
            "1. 注意车速，不要超速行驶。\n",
            "2. 注意观察路况，遇有交通拥堵或事故，要提前减速慢行。\n",
            "3. 注意观察车辆周围交通环境，避免车辆长时间停放影响其他车辆通行。\n",
            "4. 注意车辆前后左右，避免车辆长时间停放影响其他�\n"
          ]
        }
      ]
    },
    {
      "cell_type": "code",
      "source": [
        "while 1:\n",
        "    instruction = input('Ask something: ')\n",
        "    evaluate(instruction)"
      ],
      "metadata": {
        "id": "0RxAH_WDbK8o"
      },
      "execution_count": null,
      "outputs": []
    },
    {
      "cell_type": "markdown",
      "source": [
        "TODO\n",
        "\n",
        "- [ ] 一个gradio的游玩GUI\n",
        "- [ ] 更好的蒸馏策略"
      ],
      "metadata": {
        "id": "5pEvO0MHegPD"
      }
    },
    {
      "cell_type": "code",
      "source": [],
      "metadata": {
        "id": "Urhvunyuel9T"
      },
      "execution_count": null,
      "outputs": []
    }
  ]
}